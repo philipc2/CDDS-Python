{
 "cells": [
  {
   "cell_type": "markdown",
   "metadata": {},
   "source": [
    "# Total Cloud Cover Plotter\n",
    "This notebook processes the data in the ERA5 Monthly cloud cover dataset and plots an regional/global visualization of the data\n"
   ]
  },
  {
   "cell_type": "code",
   "execution_count": null,
   "metadata": {},
   "outputs": [],
   "source": [
    "from matplotlib import pyplot as plt\n",
    "import cartopy\n",
    "import cartopy.crs as ccrs\n",
    "import cartopy.feature as cfeature\n",
    "import urllib\n",
    "import pandas as pd\n",
    "import numpy as np\n",
    "import xarray as xr\n",
    "import datetime\n",
    "import matplotlib.animation as animation\n",
    "import matplotlib\n",
    "from IPython.display import HTML\n",
    "%matplotlib inline"
   ]
  },
  {
   "cell_type": "code",
   "execution_count": 150,
   "metadata": {},
   "outputs": [],
   "source": [
    "# Read data \n",
    "path = r\"E:\\datasets\\ERA5_mon_1979-2019_total_cloud_cover.nc\"\n",
    "data = xr.open_dataset(path)"
   ]
  },
  {
   "cell_type": "code",
   "execution_count": 128,
   "metadata": {},
   "outputs": [],
   "source": [
    "# Created an inverted colormap\n",
    "color_map = plt.cm.get_cmap('Blues')\n",
    "reversed_color_map = color_map.reversed()"
   ]
  },
  {
   "cell_type": "code",
   "execution_count": 167,
   "metadata": {},
   "outputs": [],
   "source": [
    "# Create a dictionary of regions\n",
    "regionDict = {\n",
    "    \"World\" : [-180, 180, -90, 90],\n",
    "    \"North America\" : [-140, -60, 20, 45],\n",
    "    \"South America\" : [-85, -30, -60, 20],\n",
    "    \"Central America\" : [-120, -60, 0, 30],\n",
    "    \"Europe\" : [-20, 60, 30, 70],\n",
    "    \n",
    "}\n"
   ]
  },
  {
   "cell_type": "code",
   "execution_count": 132,
   "metadata": {},
   "outputs": [],
   "source": [
    "# Create a dictionary for time\n",
    "keys = np.arange('1979-01-01', '2020-01-01', dtype='datetime64[M]')\n",
    "\n",
    "newKeys = []\n",
    "for key in keys:\n",
    "    newKeys.append(str(key))\n",
    "    \n",
    "\n",
    "values = np.arange(0, 492)\n",
    "timeDict = dict(zip(newKeys, values))"
   ]
  },
  {
   "cell_type": "code",
   "execution_count": 153,
   "metadata": {},
   "outputs": [],
   "source": [
    "# Function that displays the cloudcover at a given location on a given data\n",
    "def cloudPlot(date, location):\n",
    "    \n",
    "    if date not in timeDict:\n",
    "        print(\"Invlaid Date / Not in dataset\")\n",
    "        return;\n",
    "        \n",
    "    if location not in regionDict:\n",
    "        print(\"Invalid Region\")\n",
    "        return;\n",
    "    \n",
    "    index = timeDict[date]\n",
    "    fig = plt.figure(figsize = (12,6))\n",
    "    ax = plt.axes(projection=ccrs.PlateCarree())\n",
    "    ax.add_feature(cartopy.feature.BORDERS, edgecolor='black')\n",
    "    ax.add_feature(cartopy.feature.COASTLINE, edgecolor='black')\n",
    "    ax.set_extent(regionDict[location])\n",
    "    m = ax.contourf(data.tcc.isel(time=index).longitude, data.tcc.isel(time=index).latitude, \n",
    "                    data.tcc.isel(time=index), 10, cmap = reversed_color_map)\n",
    "    plt.colorbar(m)\n",
    "    ax.set_title(\"Total Cloud Cover for {}\".format(date))\n",
    "    "
   ]
  },
  {
   "cell_type": "code",
   "execution_count": null,
   "metadata": {},
   "outputs": [],
   "source": []
  },
  {
   "cell_type": "markdown",
   "metadata": {},
   "source": [
    "# Execution Instructions\n",
    "1. Call the cloudPlot(string date, string region) function\n",
    "2. Date must be in the format 'yyyy-mm'\n",
    "3. Region must be from the list below\n",
    "\n",
    "\n",
    "* World\n",
    "* North America\n",
    "* South America\n",
    "* Central America\n",
    "* Europe\n",
    "* More to be added soon"
   ]
  }
 ],
 "metadata": {
  "kernelspec": {
   "display_name": "Python 3",
   "language": "python",
   "name": "python3"
  },
  "language_info": {
   "codemirror_mode": {
    "name": "ipython",
    "version": 3
   },
   "file_extension": ".py",
   "mimetype": "text/x-python",
   "name": "python",
   "nbconvert_exporter": "python",
   "pygments_lexer": "ipython3",
   "version": "3.7.6"
  }
 },
 "nbformat": 4,
 "nbformat_minor": 4
}
