{
 "cells": [
  {
   "cell_type": "markdown",
   "metadata": {},
   "source": [
    "# Pandas Showcase\n",
    "This notebook closely follows the Earth and Enviromental Data Science course at https://earth-env-data-science.github.io/intro.html"
   ]
  },
  {
   "cell_type": "code",
   "execution_count": 2,
   "metadata": {},
   "outputs": [],
   "source": [
    "import pandas as pd\n",
    "from matplotlib import pyplot as plt\n",
    "from mpl_toolkits.basemap import Basemap\n",
    "import numpy as np\n",
    "%matplotlib inline"
   ]
  },
  {
   "cell_type": "code",
   "execution_count": 6,
   "metadata": {},
   "outputs": [
    {
     "name": "stdout",
     "output_type": "stream",
     "text": [
      "                           time   latitude   longitude   depth   mag magType  \\\n",
      "0       2014-01-31 23:53:37.000  60.252000 -152.708100   90.20  1.10      ml   \n",
      "1       2014-01-31 23:48:35.452  37.070300 -115.130900    0.00  1.33      ml   \n",
      "2       2014-01-31 23:47:24.000  64.671700 -149.252800    7.10  1.30      ml   \n",
      "3       2014-01-31 23:30:54.000  63.188700 -148.957500   96.50  0.80      ml   \n",
      "4       2014-01-31 23:30:52.210  32.616833 -115.692500   10.59  1.34      ml   \n",
      "...                         ...        ...         ...     ...   ...     ...   \n",
      "120103  2014-12-01 00:10:16.000  60.963900 -146.762900   14.80  3.80      ml   \n",
      "120104  2014-12-01 00:09:39.000  58.869100 -154.415900  108.40  2.40      ml   \n",
      "120105  2014-12-01 00:09:25.350  38.843498 -122.825836    2.37  0.43      md   \n",
      "120106  2014-12-01 00:05:54.000  65.152100 -148.992000    9.50  0.40      ml   \n",
      "120107  2014-12-01 00:04:05.000  60.227200 -147.024500    2.50  1.60      ml   \n",
      "\n",
      "        nst     gap      dmin     rms net          id  \\\n",
      "0       NaN     NaN       NaN  0.2900  ak  ak11155107   \n",
      "1       4.0  171.43  0.342000  0.0247  nn  nn00436847   \n",
      "2       NaN     NaN       NaN  1.0000  ak  ak11151142   \n",
      "3       NaN     NaN       NaN  1.0700  ak  ak11151135   \n",
      "4       6.0  285.00  0.043210  0.2000  ci  ci37171541   \n",
      "...     ...     ...       ...     ...  ..         ...   \n",
      "120103  NaN     NaN       NaN  0.6900  ak  ak11453391   \n",
      "120104  NaN     NaN       NaN  0.6700  ak  ak11453395   \n",
      "120105  8.0  107.00  0.008991  0.0300  nc  nc72358451   \n",
      "120106  NaN     NaN       NaN  0.6900  ak  ak11453390   \n",
      "120107  NaN     NaN       NaN  0.7300  ak  ak11453389   \n",
      "\n",
      "                         updated                              place  \\\n",
      "0       2014-02-05T19:34:41.515Z  26km S of Redoubt Volcano, Alaska   \n",
      "1       2014-02-01T01:35:09.000Z            32km S of Alamo, Nevada   \n",
      "2       2014-02-01T00:03:53.010Z   12km NNW of North Nenana, Alaska   \n",
      "3       2014-01-31T23:41:25.007Z         22km S of Cantwell, Alaska   \n",
      "4       2014-02-01T00:13:20.107Z       10km WNW of Progreso, Mexico   \n",
      "...                          ...                                ...   \n",
      "120103  2015-03-24T18:25:07.628Z          29km SW of Valdez, Alaska   \n",
      "120104  2014-12-10T01:04:25.209Z   102km SSE of Old Iliamna, Alaska   \n",
      "120105  2014-12-01T01:15:02.814Z        9km WNW of Cobb, California   \n",
      "120106  2014-12-10T01:03:01.225Z           57km NW of Ester, Alaska   \n",
      "120107  2014-12-09T02:04:46.894Z        78km WSW of Cordova, Alaska   \n",
      "\n",
      "              type  \n",
      "0       earthquake  \n",
      "1       earthquake  \n",
      "2       earthquake  \n",
      "3       earthquake  \n",
      "4       earthquake  \n",
      "...            ...  \n",
      "120103  earthquake  \n",
      "120104  earthquake  \n",
      "120105  earthquake  \n",
      "120106  earthquake  \n",
      "120107  earthquake  \n",
      "\n",
      "[120108 rows x 15 columns]\n"
     ]
    }
   ],
   "source": [
    "#1) Use Pandas’ read_csv function directly on this URL to open it as a DataFrame\n",
    "url = 'http://www.ldeo.columbia.edu/~rpa/usgs_earthquakes_2014.csv'\n",
    "data = pd.read_csv(url)"
   ]
  },
  {
   "cell_type": "code",
   "execution_count": null,
   "metadata": {},
   "outputs": [],
   "source": [
    "# 2) Re-read the data in such a way that all date columns are identified as dates and the earthquake ID is used as the index\n"
   ]
  },
  {
   "cell_type": "code",
   "execution_count": 7,
   "metadata": {},
   "outputs": [
    {
     "name": "stdout",
     "output_type": "stream",
     "text": [
      "Test\n"
     ]
    }
   ],
   "source": []
  }
 ],
 "metadata": {
  "kernelspec": {
   "display_name": "Python 3",
   "language": "python",
   "name": "python3"
  },
  "language_info": {
   "codemirror_mode": {
    "name": "ipython",
    "version": 3
   },
   "file_extension": ".py",
   "mimetype": "text/x-python",
   "name": "python",
   "nbconvert_exporter": "python",
   "pygments_lexer": "ipython3",
   "version": "3.7.6"
  }
 },
 "nbformat": 4,
 "nbformat_minor": 4
}
